{
  "cells": [
    {
      "cell_type": "markdown",
      "metadata": {},
      "source": [
        "# QR-MIA Sanity Checks\n",
        "\n",
        "Use this notebook to spot-inspect cached t-error tensors, ensemble thresholds,\n",
        "and ROC artefacts after running the pipeline. Populate additional cells as\n",
        "needed for manual verification or visualization experiments.\n"
      ]
    }
  ],
  "metadata": {
    "language_info": {
      "name": "python"
    }
  },
  "nbformat": 4,
  "nbformat_minor": 2
}
